{
 "cells": [
  {
   "cell_type": "code",
   "execution_count": 1,
   "metadata": {},
   "outputs": [],
   "source": [
    "import serial\n",
    "import time\n",
    "from math import log,ceil\n",
    "from astropy.table import Table\n",
    "import sys\n",
    "#from apscheduler.schedulers.background import BackgroundScheduler"
   ]
  },
  {
   "cell_type": "code",
   "execution_count": 2,
   "metadata": {},
   "outputs": [],
   "source": [
    "def ReadLastGOESValue():\n",
    "    t = Table.read('http://services.swpc.noaa.gov/text/goes-xray-flux-primary.txt', data_start = 30, format = 'ascii')\n",
    "    lastRow = t[len(t)-1]\n",
    "    return (lastRow[7])"
   ]
  },
  {
   "cell_type": "code",
   "execution_count": 3,
   "metadata": {},
   "outputs": [],
   "source": [
    "bla = ReadLastGOESValue()"
   ]
  },
  {
   "cell_type": "code",
   "execution_count": 4,
   "metadata": {},
   "outputs": [],
   "source": [
    "def GOES2LCDValue( x ):\n",
    "    val = log(x,10)\n",
    "    return abs(val)"
   ]
  },
  {
   "cell_type": "code",
   "execution_count": 5,
   "metadata": {},
   "outputs": [
    {
     "data": {
      "text/plain": [
       "7.191114132640188"
      ]
     },
     "execution_count": 5,
     "metadata": {},
     "output_type": "execute_result"
    }
   ],
   "source": [
    "GOES2LCDValue( bla )"
   ]
  },
  {
   "cell_type": "code",
   "execution_count": 6,
   "metadata": {},
   "outputs": [],
   "source": [
    "def GOES2LEDValue( x ):\n",
    "    return min(max(ceil( log(x,10)+7 ),0),4)"
   ]
  },
  {
   "cell_type": "code",
   "execution_count": 11,
   "metadata": {},
   "outputs": [],
   "source": [
    "def InitGOES2Arduino( ):\n",
    "    port = '/dev/ttyACM0'\n",
    "    return serial.Serial(port, 9600)\n",
    "\n",
    "def Send2Arduino( ser, level ):\n",
    "    ser.write( str(level).encode() )\n",
    "    #ser.write(  )\n",
    "    \n",
    "def CommWithArduino( ):\n",
    "    ser = InitGOES2Arduino()\n",
    "    while True:\n",
    "        level = GOES2LCDValue( ReadLastGOESValue() )\n",
    "        Send2Arduino( ser, level )\n",
    "        print( \"level: \", level, \"sent\")\n",
    "        time.sleep(60)\n"
   ]
  },
  {
   "cell_type": "code",
   "execution_count": 12,
   "metadata": {},
   "outputs": [],
   "source": [
    "ser = InitGOES2Arduino()"
   ]
  },
  {
   "cell_type": "code",
   "execution_count": 13,
   "metadata": {},
   "outputs": [],
   "source": [
    "Send2Arduino(ser,3.14)"
   ]
  },
  {
   "cell_type": "code",
   "execution_count": 14,
   "metadata": {},
   "outputs": [],
   "source": [
    "ser.close()"
   ]
  },
  {
   "cell_type": "code",
   "execution_count": null,
   "metadata": {},
   "outputs": [
    {
     "name": "stdout",
     "output_type": "stream",
     "text": [
      "level:  7.183758700008216 sent\n",
      "level:  7.1844222516757315 sent\n"
     ]
    }
   ],
   "source": [
    "CommWithArduino()"
   ]
  },
  {
   "cell_type": "code",
   "execution_count": null,
   "metadata": {
    "collapsed": true
   },
   "outputs": [],
   "source": []
  },
  {
   "cell_type": "code",
   "execution_count": 5,
   "metadata": {},
   "outputs": [
    {
     "ename": "NameError",
     "evalue": "name 'sleep' is not defined",
     "output_type": "error",
     "traceback": [
      "\u001b[0;31m---------------------------------------------------------------------------\u001b[0m",
      "\u001b[0;31mNameError\u001b[0m                                 Traceback (most recent call last)",
      "\u001b[0;32m<ipython-input-5-7a9e41e8e8ce>\u001b[0m in \u001b[0;36m<module>\u001b[0;34m()\u001b[0m\n\u001b[0;32m----> 1\u001b[0;31m \u001b[0msleep\u001b[0m\u001b[0;34m(\u001b[0m\u001b[0;36m3\u001b[0m\u001b[0;34m)\u001b[0m\u001b[0;34m\u001b[0m\u001b[0m\n\u001b[0m",
      "\u001b[0;31mNameError\u001b[0m: name 'sleep' is not defined"
     ]
    }
   ],
   "source": [
    "sleep(3)"
   ]
  },
  {
   "cell_type": "code",
   "execution_count": 165,
   "metadata": {},
   "outputs": [
    {
     "name": "stdout",
     "output_type": "stream",
     "text": [
      "Downloading http://services.swpc.noaa.gov/text/goes-xray-flux-primary.txt [Done]\n"
     ]
    }
   ],
   "source": [
    "CommWithArduino( ser )"
   ]
  },
  {
   "cell_type": "code",
   "execution_count": 168,
   "metadata": {
    "collapsed": true
   },
   "outputs": [],
   "source": [
    "    scheduler = BackgroundScheduler()"
   ]
  },
  {
   "cell_type": "code",
   "execution_count": null,
   "metadata": {
    "collapsed": true
   },
   "outputs": [],
   "source": [
    "scheduler.shutdown()\n",
    "ser.close()"
   ]
  },
  {
   "cell_type": "code",
   "execution_count": 183,
   "metadata": {},
   "outputs": [
    {
     "name": "stderr",
     "output_type": "stream",
     "text": [
      "Error submitting job \"CommWithArduino (trigger: interval[0:01:00], next run at: 2018-01-06 11:08:49 CET)\" to executor \"default\"\n",
      "Traceback (most recent call last):\n",
      "  File \"/Applications/anaconda3/lib/python3.6/site-packages/apscheduler/schedulers/base.py\", line 958, in _process_jobs\n",
      "    executor.submit_job(job, run_times)\n",
      "  File \"/Applications/anaconda3/lib/python3.6/site-packages/apscheduler/executors/base.py\", line 71, in submit_job\n",
      "    self._do_submit_job(job, run_times)\n",
      "  File \"/Applications/anaconda3/lib/python3.6/site-packages/apscheduler/executors/pool.py\", line 22, in _do_submit_job\n",
      "    f = self._pool.submit(run_job, job, job._jobstore_alias, run_times, self._logger.name)\n",
      "  File \"/Applications/anaconda3/lib/python3.6/concurrent/futures/thread.py\", line 117, in submit\n",
      "    raise RuntimeError('cannot schedule new futures after shutdown')\n",
      "RuntimeError: cannot schedule new futures after shutdown\n"
     ]
    }
   ],
   "source": [
    "ser.close()"
   ]
  },
  {
   "cell_type": "raw",
   "metadata": {},
   "source": [
    "scheduler.start()"
   ]
  },
  {
   "cell_type": "code",
   "execution_count": 61,
   "metadata": {},
   "outputs": [
    {
     "data": {
      "text/plain": [
       "1"
      ]
     },
     "execution_count": 61,
     "metadata": {},
     "output_type": "execute_result"
    }
   ],
   "source": [
    "ser.write( b'0')"
   ]
  },
  {
   "cell_type": "code",
   "execution_count": 102,
   "metadata": {},
   "outputs": [
    {
     "data": {
      "text/plain": [
       "b'\\x00'"
      ]
     },
     "execution_count": 102,
     "metadata": {},
     "output_type": "execute_result"
    }
   ],
   "source": [
    "level.to_bytes(1,'big')"
   ]
  },
  {
   "cell_type": "code",
   "execution_count": null,
   "metadata": {
    "collapsed": true
   },
   "outputs": [],
   "source": []
  }
 ],
 "metadata": {
  "kernelspec": {
   "display_name": "Python 3",
   "language": "python",
   "name": "python3"
  },
  "language_info": {
   "codemirror_mode": {
    "name": "ipython",
    "version": 3
   },
   "file_extension": ".py",
   "mimetype": "text/x-python",
   "name": "python",
   "nbconvert_exporter": "python",
   "pygments_lexer": "ipython3",
   "version": "3.7.3"
  }
 },
 "nbformat": 4,
 "nbformat_minor": 2
}
